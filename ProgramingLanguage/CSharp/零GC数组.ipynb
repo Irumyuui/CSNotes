{
 "cells": [
  {
   "cell_type": "markdown",
   "metadata": {},
   "source": [
    "# 零 GC 数组"
   ]
  },
  {
   "cell_type": "code",
   "execution_count": 1,
   "metadata": {
    "vscode": {
     "languageId": "polyglot-notebook"
    }
   },
   "outputs": [],
   "source": [
    "using System.Runtime.CompilerServices;\n",
    "using System.Runtime.InteropServices;\n",
    "\n",
    "[CollectionBuilder(typeof(NativeMemoryBufferBuilder), \"Create\")]\n",
    "public sealed class NativeMemoryBuffer<T> : IDisposable where T : unmanaged\n",
    "{\n",
    "    private unsafe T* _pointer;\n",
    "\n",
    "    public nuint Length { get; }\n",
    "\n",
    "    public NativeMemoryBuffer(nuint lenght)\n",
    "    {\n",
    "        Length = lenght;\n",
    "        unsafe\n",
    "        {\n",
    "            _pointer = (T*)NativeMemory.Alloc(lenght, (nuint)sizeof(T));\n",
    "        }\n",
    "    }\n",
    "\n",
    "    public NativeMemoryBuffer(Span<T> span) : this((nuint)span.Length)\n",
    "    {\n",
    "        unsafe\n",
    "        {\n",
    "            fixed (T* ptr = span)\n",
    "            {\n",
    "                Buffer.MemoryCopy(ptr, _pointer, sizeof(T) * span.Length, sizeof(T) * span.Length);\n",
    "            }\n",
    "        }\n",
    "    }\n",
    "\n",
    "    public NativeMemoryBuffer(ReadOnlySpan<T> span) : this((nuint)span.Length)\n",
    "    {\n",
    "        unsafe\n",
    "        {\n",
    "            fixed (T* ptr = span)\n",
    "            {\n",
    "                Buffer.MemoryCopy(ptr, _pointer, sizeof(T) * span.Length, sizeof(T) * span.Length);\n",
    "            }\n",
    "        }\n",
    "    }\n",
    "\n",
    "    public static unsafe implicit operator T*(NativeMemoryBuffer<T> buffer) => buffer._pointer;\n",
    "\n",
    "    public static implicit operator NativeMemoryBuffer<T>(Span<T> span) => new(span);\n",
    "\n",
    "    public static implicit operator NativeMemoryBuffer<T>(ReadOnlySpan<T> span) => new(span);\n",
    "\n",
    "    ~NativeMemoryBuffer()\n",
    "    {\n",
    "        Dispose();\n",
    "        GC.SuppressFinalize(this);\n",
    "    }\n",
    "\n",
    "    public void Dispose()\n",
    "    {\n",
    "        unsafe\n",
    "        {\n",
    "            if (_pointer != default)\n",
    "            {\n",
    "                NativeMemory.Free(_pointer);\n",
    "                _pointer = default;\n",
    "            }\n",
    "        }\n",
    "    }\n",
    "\n",
    "    public ref T this[nuint index]\n",
    "    {\n",
    "        get\n",
    "        {\n",
    "            unsafe\n",
    "            {\n",
    "                if (index >= Length || _pointer == default)\n",
    "                    throw new IndexOutOfRangeException();\n",
    "\n",
    "                return ref Unsafe.AsRef<T>(_pointer + index);\n",
    "            }\n",
    "        }\n",
    "    }\n",
    "\n",
    "    public ref struct NativeMemoryBufferEnumerator\n",
    "    {\n",
    "        private unsafe readonly ref T* _pointer;\n",
    "        private nuint _length;\n",
    "        private nuint _index;\n",
    "        private ref T _current;\n",
    "\n",
    "        public unsafe NativeMemoryBufferEnumerator(ref T* pointer, nuint length)\n",
    "        {\n",
    "            _pointer = ref pointer;\n",
    "            _length = length;\n",
    "        }\n",
    "\n",
    "        public ref T Current\n",
    "        {\n",
    "            get\n",
    "            {\n",
    "                unsafe\n",
    "                {\n",
    "                    if (_pointer == default)\n",
    "                        return ref Unsafe.NullRef<T>();\n",
    "                    return ref _current;\n",
    "                }\n",
    "            }\n",
    "        }\n",
    "\n",
    "        public bool MoveNext()\n",
    "        {\n",
    "            unsafe\n",
    "            {\n",
    "                if (_index >= _length || _pointer == default)\n",
    "                    return false;\n",
    "\n",
    "                _current = ref Unsafe.AsRef<T>(_pointer + _index);\n",
    "            }\n",
    "            _index++;\n",
    "            return true;\n",
    "        }\n",
    "    }\n",
    "\n",
    "    public NativeMemoryBufferEnumerator GetEnumerator()\n",
    "    {\n",
    "        unsafe\n",
    "        {\n",
    "            return new(ref _pointer, Length);\n",
    "        }\n",
    "    }\n",
    "}\n",
    "\n",
    "public static class NativeMemoryBufferBuilder\n",
    "{\n",
    "    public static NativeMemoryBuffer<T> Create<T>(ReadOnlySpan<T> span) where T : unmanaged => new(span);\n",
    "}"
   ]
  },
  {
   "cell_type": "code",
   "execution_count": 6,
   "metadata": {
    "vscode": {
     "languageId": "polyglot-notebook"
    }
   },
   "outputs": [
    {
     "name": "stdout",
     "output_type": "stream",
     "text": [
      "1 2 3 \n",
      "9 9 9 "
     ]
    }
   ],
   "source": [
    "void Foo() {\n",
    "    using NativeMemoryBuffer<int> buffer = [1, 2, 3];\n",
    "\n",
    "    foreach (ref var item in buffer)\n",
    "    {\n",
    "        Console.Write($\"{item} \");\n",
    "        item = 9;\n",
    "    }\n",
    "\n",
    "    Console.WriteLine();\n",
    "\n",
    "    foreach (var item in buffer)\n",
    "        Console.Write($\"{item} \");\n",
    "}\n",
    "Foo();"
   ]
  }
 ],
 "metadata": {
  "kernelspec": {
   "display_name": ".NET (C#)",
   "language": "C#",
   "name": ".net-csharp"
  },
  "language_info": {
   "name": "python"
  },
  "polyglot_notebook": {
   "kernelInfo": {
    "defaultKernelName": "csharp",
    "items": [
     {
      "aliases": [],
      "name": "csharp"
     }
    ]
   }
  }
 },
 "nbformat": 4,
 "nbformat_minor": 2
}
