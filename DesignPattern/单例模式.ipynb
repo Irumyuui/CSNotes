{
 "cells": [
  {
   "cell_type": "markdown",
   "metadata": {},
   "source": [
    "# 单例模式\n",
    "\n",
    "不建议大规模使用，如果需要大规模使用的时候，请注意一下是不是你的代码有问题。\n",
    "\n",
    "不使用 `Lazy<T>` 的单例模式如下："
   ]
  },
  {
   "cell_type": "code",
   "execution_count": null,
   "metadata": {
    "dotnet_interactive": {
     "language": "csharp"
    },
    "polyglot_notebook": {
     "kernelName": "csharp"
    },
    "vscode": {
     "languageId": "polyglot-notebook"
    }
   },
   "outputs": [],
   "source": [
    "#nullable enable\n",
    "\n",
    "public sealed class SingletonClass : ISingleton\n",
    "{\n",
    "    private SingletonClass()\n",
    "    {\n",
    "        // the private contructors\n",
    "    }\n",
    "\n",
    "    public static ISingleton Instance\n",
    "    {\n",
    "        get\n",
    "        {\n",
    "            if (instance is not null)\n",
    "                return instance;\n",
    "\n",
    "            lock (InstanceLock)\n",
    "            {\n",
    "                instance ??= new SingletonClass();\n",
    "                return instance;\n",
    "            }\n",
    "        }\n",
    "    }\n",
    "\n",
    "    private static ISingleton? instance;\n",
    "\n",
    "    private static readonly object InstanceLock = new object();\n",
    "\n",
    "    private bool isDisposed = false;\n",
    "    // other properties\n",
    "\n",
    "    public void Dispose()\n",
    "    {\n",
    "        Dispose(true);\n",
    "        GC.SuppressFinalize(this);\n",
    "    }\n",
    "\n",
    "    private void Dispose(bool disposing)\n",
    "    {\n",
    "        if (!isDisposed)\n",
    "        {\n",
    "            if (disposing)\n",
    "            {\n",
    "                // dispose the objects you declared\n",
    "            }\n",
    "            isDisposed = true;\n",
    "        }\n",
    "    }\n",
    "}\n",
    "\n",
    "public interface ISingleton : IDisposable\n",
    "{\n",
    "    // your interface methods\n",
    "}"
   ]
  },
  {
   "cell_type": "markdown",
   "metadata": {},
   "source": [
    "如果使用了 `Lazy<T>` 来实现单例模式，那么情况就很简单了。"
   ]
  },
  {
   "cell_type": "code",
   "execution_count": null,
   "metadata": {
    "dotnet_interactive": {
     "language": "csharp"
    },
    "polyglot_notebook": {
     "kernelName": "csharp"
    },
    "vscode": {
     "languageId": "polyglot-notebook"
    }
   },
   "outputs": [],
   "source": [
    "public sealed class Singleton\n",
    "{\n",
    "    private static readonly Lazy<Singleton> _instance = new(() => new Singleton());\n",
    "\n",
    "    public static Singleton Instance => _instance.Value;\n",
    "\n",
    "    private Singleton() {}\n",
    "}"
   ]
  }
 ],
 "metadata": {
  "kernelspec": {
   "display_name": ".NET (C#)",
   "language": "C#",
   "name": ".net-csharp"
  },
  "language_info": {
   "name": "python"
  },
  "polyglot_notebook": {
   "kernelInfo": {
    "defaultKernelName": "csharp",
    "items": [
     {
      "aliases": [],
      "name": "csharp"
     }
    ]
   }
  }
 },
 "nbformat": 4,
 "nbformat_minor": 2
}
